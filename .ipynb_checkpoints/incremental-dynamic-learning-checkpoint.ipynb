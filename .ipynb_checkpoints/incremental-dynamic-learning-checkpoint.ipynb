{
 "cells": [
  {
   "cell_type": "markdown",
   "metadata": {},
   "source": [
    "# Incremental Dynamic Learning\n",
    "\n",
    "## Overview\n",
    "\n",
    "The idea behind Incremental Dynamic Learning networks is that information is not always learned at once, up front. As information is encountered, we train on the new data. Adding the new information to our existing knowlege base. Humans, are said to be able to recognize an image in 13 milliseconds after seeing it.The new image is added to their existing learned information and they do not have to retrain on all images they have ever seen.\n",
    "\n",
    "## Example\n",
    "\n",
    "As an example of how this can be used in the real world, I will use field biologists for my use case.\n",
    "\n",
    "Imagine a group of field biologists are in the field and all have a mobile application which allows them to photograph wildlife they encounter, label it and forward it to a central system. The central system takes in the new photographs and trains a neural network on each piece of new data that comes in. W/out having to retrain a new model based on all past photographs. "
   ]
  },
  {
   "cell_type": "markdown",
   "metadata": {},
   "source": [
    "## Experiment 1\n",
    "\n",
    "The experiment will consist of using a pre-trained network from TensorFlow (VGG) to generate our classification data. Our data will consist of using flower images provided with TensorFlow examples.\n",
    "\n",
    "Once the data has be converted by the VGG network, the process of training our network begins. This will be done by feeding the network 1 image at a time, allowing the network to train for a short duration (13ms) and then move onto the next image. A fixed validation set will be used to monitor progress as the images are fed one at a time to the network.\n",
    "\n",
    "The goal is to get an acceptable accuracy, similar to what a traditionally trained network would achieve."
   ]
  },
  {
   "cell_type": "markdown",
   "metadata": {},
   "source": [
    "## Experment 2\n",
    "\n",
    "For the second half of this experiment will be to start with a single classification item 'UNKNOWN' and grow the classification set as needed. This will be done by checking a classificaiton index dictionary for the incoming label. If the label does not exist, then a prediction will be made with the current network. The classifcation that matches the image the best will be used to prime the initial weights of the new node to be added to the classifcation set. Once the node is added, the normal training on the image will be performed."
   ]
  }
 ],
 "metadata": {
  "kernelspec": {
   "display_name": "Python 3",
   "language": "python",
   "name": "python3"
  },
  "language_info": {
   "codemirror_mode": {
    "name": "ipython",
    "version": 3
   },
   "file_extension": ".py",
   "mimetype": "text/x-python",
   "name": "python",
   "nbconvert_exporter": "python",
   "pygments_lexer": "ipython3",
   "version": "3.6.2"
  }
 },
 "nbformat": 4,
 "nbformat_minor": 2
}
